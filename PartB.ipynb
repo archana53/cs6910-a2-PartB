{
 "cells": [
  {
   "cell_type": "code",
   "execution_count": 3,
   "id": "minus-recommendation",
   "metadata": {},
   "outputs": [],
   "source": [
    "import numpy as np\n",
    "import matplotlib.pyplot as plt\n",
    "import keras\n",
    "import tensorflow as tf"
   ]
  },
  {
   "cell_type": "markdown",
   "id": "proprietary-correlation",
   "metadata": {},
   "source": [
    "# Question 1 : Implementing flexible model "
   ]
  },
  {
   "cell_type": "code",
   "execution_count": 15,
   "id": "taken-subscriber",
   "metadata": {},
   "outputs": [
    {
     "name": "stdout",
     "output_type": "stream",
     "text": [
      "Model: \"sequential_4\"\n",
      "_________________________________________________________________\n",
      "Layer (type)                 Output Shape              Param #   \n",
      "=================================================================\n",
      "resnet50 (Functional)        (None, 10, 10, 2048)      23587712  \n",
      "_________________________________________________________________\n",
      "flatten (Flatten)            (None, 204800)            0         \n",
      "_________________________________________________________________\n",
      "dense_1 (Dense)              (None, 10)                2048010   \n",
      "=================================================================\n",
      "Total params: 25,635,722\n",
      "Trainable params: 25,582,602\n",
      "Non-trainable params: 53,120\n",
      "_________________________________________________________________\n"
     ]
    }
   ],
   "source": [
    "from tensorflow.keras.applications.resnet50 import ResNet50\n",
    "from tensorflow.keras.layers import Input\n",
    "from tensorflow.keras.models import Model\n",
    "from keras.layers import Activation, Dense, Flatten \n",
    "\n",
    "def create_model( model_name , inputsize) :\n",
    "    model = keras.models.Sequential()\n",
    "    inp = Input(inputsize)\n",
    "    model.add(model_name(weights = 'imagenet',include_top = False, input_tensor = inp) )\n",
    "    model.add(Flatten())\n",
    "    model.add(Dense(10))\n",
    "    model.summary()\n",
    "\n",
    "create_model(ResNet50 , (320, 320,3))"
   ]
  },
  {
   "cell_type": "code",
   "execution_count": null,
   "id": "standing-zambia",
   "metadata": {},
   "outputs": [],
   "source": []
  }
 ],
 "metadata": {
  "kernelspec": {
   "display_name": "Python 3",
   "language": "python",
   "name": "python3"
  },
  "language_info": {
   "codemirror_mode": {
    "name": "ipython",
    "version": 3
   },
   "file_extension": ".py",
   "mimetype": "text/x-python",
   "name": "python",
   "nbconvert_exporter": "python",
   "pygments_lexer": "ipython3",
   "version": "3.9.2"
  }
 },
 "nbformat": 4,
 "nbformat_minor": 5
}
