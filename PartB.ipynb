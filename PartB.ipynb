{
 "cells": [
  {
   "cell_type": "code",
   "execution_count": 3,
   "id": "invalid-vocabulary",
   "metadata": {},
   "outputs": [],
   "source": [
    "import numpy as np\n",
    "import matplotlib.pyplot as plt\n",
    "import keras\n",
    "import tensorflow as tf"
   ]
  },
  {
   "cell_type": "markdown",
   "id": "crazy-customer",
   "metadata": {},
   "source": [
    "# Question 1 : Implementing flexible model "
   ]
  },
  {
   "cell_type": "code",
   "execution_count": 19,
   "id": "settled-entertainment",
   "metadata": {},
   "outputs": [
    {
     "name": "stdout",
     "output_type": "stream",
     "text": [
      "Model: \"sequential_8\"\n",
      "_________________________________________________________________\n",
      "Layer (type)                 Output Shape              Param #   \n",
      "=================================================================\n",
      "resnet50 (Functional)        (None, 10, 10, 2048)      23587712  \n",
      "_________________________________________________________________\n",
      "dense_2 (Dense)              (None, 10, 10, 10)        20490     \n",
      "=================================================================\n",
      "Total params: 23,608,202\n",
      "Trainable params: 23,555,082\n",
      "Non-trainable params: 53,120\n",
      "_________________________________________________________________\n"
     ]
    },
    {
     "data": {
      "text/plain": [
       "<tensorflow.python.keras.engine.sequential.Sequential at 0x7f8e281baee0>"
      ]
     },
     "execution_count": 19,
     "metadata": {},
     "output_type": "execute_result"
    }
   ],
   "source": [
    "from tensorflow.keras.applications.resnet50 import ResNet50\n",
    "from tensorflow.keras.layers import Input\n",
    "from tensorflow.keras.models import Model, Sequential\n",
    "from keras.layers import Activation, Dense, Flatten \n",
    "\n",
    "class my_model:\n",
    "    def __init__(self , pretrained_model , input_shape):\n",
    "        self.input_shape = input_shape\n",
    "        self.model = Sequential()\n",
    "        self.model.add(pretrained_model(weights = \"imagenet\", include_top = False, input_shape=input_shape))\n",
    "        \n",
    "    def add_dense_layer(self,neurons=10):\n",
    "        self.model.add(Flatten())\n",
    "        self.model.add(Dense(neurons,activation='relu'))\n",
    "        \n",
    "    def build_model(self,output,optimizer='adam',loss='categorical_crossentropy'):\n",
    "        self.model.add(Dense(output,activation='softmax'))\n",
    "        self.model.compile(optimizer=optimizer,loss=loss,metrics=['accuracy'])\n",
    "        self.model.summary()\n",
    "        return self.model\n",
    "\n",
    "model = my_model(ResNet50 , (320, 320,3))\n",
    "model.build_model(10)"
   ]
  },
  {
   "cell_type": "code",
   "execution_count": null,
   "id": "small-federation",
   "metadata": {},
   "outputs": [],
   "source": []
  }
 ],
 "metadata": {
  "kernelspec": {
   "display_name": "Python 3",
   "language": "python",
   "name": "python3"
  },
  "language_info": {
   "codemirror_mode": {
    "name": "ipython",
    "version": 3
   },
   "file_extension": ".py",
   "mimetype": "text/x-python",
   "name": "python",
   "nbconvert_exporter": "python",
   "pygments_lexer": "ipython3",
   "version": "3.9.2"
  }
 },
 "nbformat": 4,
 "nbformat_minor": 5
}
